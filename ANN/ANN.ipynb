{
 "cells": [
  {
   "cell_type": "code",
   "execution_count": 1,
   "id": "18cbd3a7-5f41-40b0-82bf-92b4e4f1d7ad",
   "metadata": {},
   "outputs": [],
   "source": [
    "from tqdm.auto import tqdm\n",
    "import matplotlib.pyplot as plt\n",
    "\n",
    "import pandas as pd\n",
    "import numpy as np\n",
    "\n",
    "import torch\n",
    "import torchvision\n",
    "import torch.nn as nn\n",
    "from torchmetrics import Accuracy\n",
    "from torchvision.utils import make_grid\n",
    "from torch.utils.data import random_split\n",
    "import torchvision.transforms as transforms\n",
    "from torch.utils.data import Dataset,DataLoader\n",
    "\n",
    "import pytorch_lightning as pl"
   ]
  },
  {
   "cell_type": "markdown",
   "id": "55703162-10dd-4d9f-968a-24393cae9255",
   "metadata": {},
   "source": [
    "# Data preprocessing"
   ]
  },
  {
   "cell_type": "code",
   "execution_count": 2,
   "id": "755bd7d3-d2dd-4274-97ac-8be3333b016d",
   "metadata": {},
   "outputs": [],
   "source": [
    "df_raw = pd.read_csv('/scratch-shared/martin/003_SPECS1K_ML/001_data/Specs935_ImageMeans_AfterQC_AnnotatedWithMOA.csv', sep=';')\n",
    "df_raw.rename(columns={'Compound ID':'Compound_ID'}, inplace = True)"
   ]
  },
  {
   "cell_type": "code",
   "execution_count": 3,
   "id": "48d81679-9f54-4107-ac38-04753cd3ee1d",
   "metadata": {},
   "outputs": [],
   "source": [
    "df = df_raw.copy()"
   ]
  },
  {
   "cell_type": "code",
   "execution_count": 4,
   "id": "9a6a76e2-109a-4793-977a-ee73c9b32b92",
   "metadata": {},
   "outputs": [],
   "source": [
    "# reading the \"inactive\" dataset\n",
    "df_tox = pd.read_csv('data/train.csv', sep=',')\n",
    "df_tox.rename(columns={'Compound ID':'Compound_ID'}, inplace = True)\n",
    "df_heat= df_tox[df_tox[\"selected_mechanism\"]=='heat shock response signalling agonist'].copy()\n",
    "\n",
    "df_heat_inactive = df_heat[(df_heat[\"ASSAY_OUTCOME\"]==\"inactive\")].copy()\n",
    "df_heat_active   = df_heat[(df_heat[\"ASSAY_OUTCOME\"]==\"active\")].copy()\n",
    "df_heat_inactive.drop([\"ASSAY_OUTCOME\"], axis=1, inplace=True)\n",
    "df_heat_active.drop([\"ASSAY_OUTCOME\"], axis=1, inplace=True)\n",
    "df_heat.drop([\"selected_mechanism\", \"Compound_ID\"], axis=1, inplace=True)"
   ]
  },
  {
   "cell_type": "code",
   "execution_count": 5,
   "id": "df2d2aad-084d-452b-94ac-1f4a7aedc4b9",
   "metadata": {},
   "outputs": [],
   "source": [
    "df.dropna(subset=['Compound_ID'], inplace=True)\n",
    "df = df[df['selected_mechanism'].str.contains('dmso')==False] # actually not dropping anything, since dropna already drop all dmso"
   ]
  },
  {
   "cell_type": "code",
   "execution_count": 6,
   "id": "f698050e-6bb4-4131-9bcd-c9e8787d9279",
   "metadata": {},
   "outputs": [],
   "source": [
    "df.drop([\"ImageID\", \"Plate\", \"Plate_Well\", \"batch_id\", \"pertType\", \"Batch nr\", \"PlateID\", \"Well\"], axis=1, inplace=True)\n",
    "\n",
    "# remove all heat\n",
    "df = df[df.selected_mechanism != \"heat shock response signalling agonist\"]\n",
    "# add heat_active\n",
    "df = pd.concat([df, df_heat_active], axis=0)"
   ]
  },
  {
   "cell_type": "code",
   "execution_count": 7,
   "id": "a5ee6fb1-3342-4404-bb2c-738a6546b919",
   "metadata": {},
   "outputs": [],
   "source": [
    "df = df.groupby(['selected_mechanism','Compound_ID']).mean() # merge the data based on Compound_ID, avoiding reading \"duplicated data\"\n",
    "df.reset_index(inplace=True)\n",
    "df.drop('Compound_ID', axis=1, inplace=True)"
   ]
  },
  {
   "cell_type": "code",
   "execution_count": 8,
   "id": "9e74372f-8d52-49fa-a054-1232af0c6062",
   "metadata": {},
   "outputs": [
    {
     "data": {
      "text/html": [
       "<div>\n",
       "<style scoped>\n",
       "    .dataframe tbody tr th:only-of-type {\n",
       "        vertical-align: middle;\n",
       "    }\n",
       "\n",
       "    .dataframe tbody tr th {\n",
       "        vertical-align: top;\n",
       "    }\n",
       "\n",
       "    .dataframe thead th {\n",
       "        text-align: right;\n",
       "    }\n",
       "</style>\n",
       "<table border=\"1\" class=\"dataframe\">\n",
       "  <thead>\n",
       "    <tr style=\"text-align: right;\">\n",
       "      <th></th>\n",
       "      <th>selected_mechanism</th>\n",
       "      <th>ImageNumber_nuclei</th>\n",
       "      <th>ObjectNumber_nuclei</th>\n",
       "      <th>Metadata_Site_nuclei</th>\n",
       "      <th>AreaShape_Area_nuclei</th>\n",
       "      <th>AreaShape_BoundingBoxArea_nuclei</th>\n",
       "      <th>AreaShape_BoundingBoxMaximum_X_nuclei</th>\n",
       "      <th>AreaShape_BoundingBoxMaximum_Y_nuclei</th>\n",
       "      <th>AreaShape_BoundingBoxMinimum_X_nuclei</th>\n",
       "      <th>AreaShape_BoundingBoxMinimum_Y_nuclei</th>\n",
       "      <th>...</th>\n",
       "      <th>RadialDistribution_ZernikePhase_illumSYTO_8_8_cytoplasm</th>\n",
       "      <th>RadialDistribution_ZernikePhase_illumSYTO_9_1_cytoplasm</th>\n",
       "      <th>RadialDistribution_ZernikePhase_illumSYTO_9_3_cytoplasm</th>\n",
       "      <th>RadialDistribution_ZernikePhase_illumSYTO_9_5_cytoplasm</th>\n",
       "      <th>RadialDistribution_ZernikePhase_illumSYTO_9_7_cytoplasm</th>\n",
       "      <th>RadialDistribution_ZernikePhase_illumSYTO_9_9_cytoplasm</th>\n",
       "      <th>Site</th>\n",
       "      <th>cmpd_conc</th>\n",
       "      <th>Flag</th>\n",
       "      <th>Count_nuclei</th>\n",
       "    </tr>\n",
       "  </thead>\n",
       "  <tbody>\n",
       "    <tr>\n",
       "      <th>0</th>\n",
       "      <td>ATPase inhibitor</td>\n",
       "      <td>1.0</td>\n",
       "      <td>71.245173</td>\n",
       "      <td>5.239130</td>\n",
       "      <td>2594.052840</td>\n",
       "      <td>3641.637710</td>\n",
       "      <td>1115.659189</td>\n",
       "      <td>1105.359249</td>\n",
       "      <td>1055.397388</td>\n",
       "      <td>1044.748298</td>\n",
       "      <td>...</td>\n",
       "      <td>-0.007249</td>\n",
       "      <td>0.037613</td>\n",
       "      <td>-0.004677</td>\n",
       "      <td>0.029404</td>\n",
       "      <td>-0.004017</td>\n",
       "      <td>-0.006743</td>\n",
       "      <td>5.239130</td>\n",
       "      <td>10.0</td>\n",
       "      <td>0.0</td>\n",
       "      <td>129.934783</td>\n",
       "    </tr>\n",
       "    <tr>\n",
       "      <th>1</th>\n",
       "      <td>ATPase inhibitor</td>\n",
       "      <td>1.0</td>\n",
       "      <td>75.987102</td>\n",
       "      <td>4.909091</td>\n",
       "      <td>2575.014391</td>\n",
       "      <td>3595.923493</td>\n",
       "      <td>1103.946315</td>\n",
       "      <td>1113.647177</td>\n",
       "      <td>1044.400607</td>\n",
       "      <td>1053.059617</td>\n",
       "      <td>...</td>\n",
       "      <td>0.020761</td>\n",
       "      <td>0.017658</td>\n",
       "      <td>0.006239</td>\n",
       "      <td>0.016753</td>\n",
       "      <td>0.010671</td>\n",
       "      <td>-0.045862</td>\n",
       "      <td>4.909091</td>\n",
       "      <td>10.0</td>\n",
       "      <td>0.0</td>\n",
       "      <td>137.136364</td>\n",
       "    </tr>\n",
       "    <tr>\n",
       "      <th>2</th>\n",
       "      <td>ATPase inhibitor</td>\n",
       "      <td>1.0</td>\n",
       "      <td>76.035368</td>\n",
       "      <td>5.187500</td>\n",
       "      <td>2520.257557</td>\n",
       "      <td>3542.050967</td>\n",
       "      <td>1091.662087</td>\n",
       "      <td>1114.037379</td>\n",
       "      <td>1031.724602</td>\n",
       "      <td>1054.629479</td>\n",
       "      <td>...</td>\n",
       "      <td>-0.056267</td>\n",
       "      <td>-0.062818</td>\n",
       "      <td>-0.000146</td>\n",
       "      <td>0.000251</td>\n",
       "      <td>0.025794</td>\n",
       "      <td>-0.043205</td>\n",
       "      <td>5.187500</td>\n",
       "      <td>10.0</td>\n",
       "      <td>0.0</td>\n",
       "      <td>137.479167</td>\n",
       "    </tr>\n",
       "    <tr>\n",
       "      <th>3</th>\n",
       "      <td>ATPase inhibitor</td>\n",
       "      <td>1.0</td>\n",
       "      <td>87.332931</td>\n",
       "      <td>5.022222</td>\n",
       "      <td>2590.518971</td>\n",
       "      <td>3655.140277</td>\n",
       "      <td>1089.390643</td>\n",
       "      <td>1122.687979</td>\n",
       "      <td>1028.800183</td>\n",
       "      <td>1062.081933</td>\n",
       "      <td>...</td>\n",
       "      <td>0.044132</td>\n",
       "      <td>0.030789</td>\n",
       "      <td>-0.005525</td>\n",
       "      <td>0.026131</td>\n",
       "      <td>0.017409</td>\n",
       "      <td>0.006531</td>\n",
       "      <td>5.022222</td>\n",
       "      <td>10.0</td>\n",
       "      <td>0.0</td>\n",
       "      <td>159.022222</td>\n",
       "    </tr>\n",
       "    <tr>\n",
       "      <th>4</th>\n",
       "      <td>ATPase inhibitor</td>\n",
       "      <td>1.0</td>\n",
       "      <td>10.026111</td>\n",
       "      <td>4.968750</td>\n",
       "      <td>1715.445263</td>\n",
       "      <td>2698.307079</td>\n",
       "      <td>1042.539294</td>\n",
       "      <td>1133.979970</td>\n",
       "      <td>993.095621</td>\n",
       "      <td>1082.576196</td>\n",
       "      <td>...</td>\n",
       "      <td>0.011072</td>\n",
       "      <td>-0.065412</td>\n",
       "      <td>-0.053279</td>\n",
       "      <td>-0.157138</td>\n",
       "      <td>-0.003663</td>\n",
       "      <td>-0.152837</td>\n",
       "      <td>4.968750</td>\n",
       "      <td>10.0</td>\n",
       "      <td>0.0</td>\n",
       "      <td>20.500000</td>\n",
       "    </tr>\n",
       "    <tr>\n",
       "      <th>...</th>\n",
       "      <td>...</td>\n",
       "      <td>...</td>\n",
       "      <td>...</td>\n",
       "      <td>...</td>\n",
       "      <td>...</td>\n",
       "      <td>...</td>\n",
       "      <td>...</td>\n",
       "      <td>...</td>\n",
       "      <td>...</td>\n",
       "      <td>...</td>\n",
       "      <td>...</td>\n",
       "      <td>...</td>\n",
       "      <td>...</td>\n",
       "      <td>...</td>\n",
       "      <td>...</td>\n",
       "      <td>...</td>\n",
       "      <td>...</td>\n",
       "      <td>...</td>\n",
       "      <td>...</td>\n",
       "      <td>...</td>\n",
       "      <td>...</td>\n",
       "    </tr>\n",
       "    <tr>\n",
       "      <th>842</th>\n",
       "      <td>tubulin polymerization inhibitor</td>\n",
       "      <td>1.0</td>\n",
       "      <td>20.402987</td>\n",
       "      <td>5.000000</td>\n",
       "      <td>2082.156880</td>\n",
       "      <td>3014.069150</td>\n",
       "      <td>1076.408519</td>\n",
       "      <td>1068.403089</td>\n",
       "      <td>1025.965967</td>\n",
       "      <td>1017.558366</td>\n",
       "      <td>...</td>\n",
       "      <td>-0.099782</td>\n",
       "      <td>-0.138100</td>\n",
       "      <td>-0.064953</td>\n",
       "      <td>0.028538</td>\n",
       "      <td>-0.088900</td>\n",
       "      <td>0.061930</td>\n",
       "      <td>5.000000</td>\n",
       "      <td>10.0</td>\n",
       "      <td>0.0</td>\n",
       "      <td>30.416667</td>\n",
       "    </tr>\n",
       "    <tr>\n",
       "      <th>843</th>\n",
       "      <td>tubulin polymerization inhibitor</td>\n",
       "      <td>1.0</td>\n",
       "      <td>11.223901</td>\n",
       "      <td>4.790698</td>\n",
       "      <td>2383.460366</td>\n",
       "      <td>3494.812003</td>\n",
       "      <td>1085.155299</td>\n",
       "      <td>1068.350095</td>\n",
       "      <td>1030.907400</td>\n",
       "      <td>1012.764174</td>\n",
       "      <td>...</td>\n",
       "      <td>-0.048432</td>\n",
       "      <td>-0.170362</td>\n",
       "      <td>0.252728</td>\n",
       "      <td>0.184233</td>\n",
       "      <td>0.153065</td>\n",
       "      <td>0.110785</td>\n",
       "      <td>4.790698</td>\n",
       "      <td>10.0</td>\n",
       "      <td>0.0</td>\n",
       "      <td>19.302326</td>\n",
       "    </tr>\n",
       "    <tr>\n",
       "      <th>844</th>\n",
       "      <td>tubulin polymerization inhibitor</td>\n",
       "      <td>1.0</td>\n",
       "      <td>13.496681</td>\n",
       "      <td>5.000000</td>\n",
       "      <td>1996.259680</td>\n",
       "      <td>2951.947594</td>\n",
       "      <td>1027.813396</td>\n",
       "      <td>1103.537110</td>\n",
       "      <td>978.226385</td>\n",
       "      <td>1052.836261</td>\n",
       "      <td>...</td>\n",
       "      <td>0.056227</td>\n",
       "      <td>-0.031864</td>\n",
       "      <td>-0.069233</td>\n",
       "      <td>0.052349</td>\n",
       "      <td>0.003676</td>\n",
       "      <td>-0.093969</td>\n",
       "      <td>5.000000</td>\n",
       "      <td>10.0</td>\n",
       "      <td>0.0</td>\n",
       "      <td>22.541667</td>\n",
       "    </tr>\n",
       "    <tr>\n",
       "      <th>845</th>\n",
       "      <td>tubulin polymerization inhibitor</td>\n",
       "      <td>1.0</td>\n",
       "      <td>13.776276</td>\n",
       "      <td>4.903846</td>\n",
       "      <td>2145.525287</td>\n",
       "      <td>3180.830545</td>\n",
       "      <td>1094.460819</td>\n",
       "      <td>1059.192757</td>\n",
       "      <td>1042.688779</td>\n",
       "      <td>1005.678258</td>\n",
       "      <td>...</td>\n",
       "      <td>0.080633</td>\n",
       "      <td>-0.037189</td>\n",
       "      <td>-0.199157</td>\n",
       "      <td>0.027529</td>\n",
       "      <td>-0.168356</td>\n",
       "      <td>-0.187250</td>\n",
       "      <td>4.903846</td>\n",
       "      <td>10.0</td>\n",
       "      <td>0.0</td>\n",
       "      <td>24.596154</td>\n",
       "    </tr>\n",
       "    <tr>\n",
       "      <th>846</th>\n",
       "      <td>tubulin polymerization inhibitor</td>\n",
       "      <td>1.0</td>\n",
       "      <td>12.398448</td>\n",
       "      <td>5.104167</td>\n",
       "      <td>2337.615356</td>\n",
       "      <td>3393.531905</td>\n",
       "      <td>1066.854957</td>\n",
       "      <td>1071.892228</td>\n",
       "      <td>1013.413264</td>\n",
       "      <td>1016.421271</td>\n",
       "      <td>...</td>\n",
       "      <td>-0.173023</td>\n",
       "      <td>-0.076680</td>\n",
       "      <td>-0.075674</td>\n",
       "      <td>0.135591</td>\n",
       "      <td>-0.127453</td>\n",
       "      <td>0.039446</td>\n",
       "      <td>5.104167</td>\n",
       "      <td>10.0</td>\n",
       "      <td>0.0</td>\n",
       "      <td>21.666667</td>\n",
       "    </tr>\n",
       "  </tbody>\n",
       "</table>\n",
       "<p>847 rows × 2131 columns</p>\n",
       "</div>"
      ],
      "text/plain": [
       "                   selected_mechanism  ImageNumber_nuclei  \\\n",
       "0                    ATPase inhibitor                 1.0   \n",
       "1                    ATPase inhibitor                 1.0   \n",
       "2                    ATPase inhibitor                 1.0   \n",
       "3                    ATPase inhibitor                 1.0   \n",
       "4                    ATPase inhibitor                 1.0   \n",
       "..                                ...                 ...   \n",
       "842  tubulin polymerization inhibitor                 1.0   \n",
       "843  tubulin polymerization inhibitor                 1.0   \n",
       "844  tubulin polymerization inhibitor                 1.0   \n",
       "845  tubulin polymerization inhibitor                 1.0   \n",
       "846  tubulin polymerization inhibitor                 1.0   \n",
       "\n",
       "     ObjectNumber_nuclei  Metadata_Site_nuclei  AreaShape_Area_nuclei  \\\n",
       "0              71.245173              5.239130            2594.052840   \n",
       "1              75.987102              4.909091            2575.014391   \n",
       "2              76.035368              5.187500            2520.257557   \n",
       "3              87.332931              5.022222            2590.518971   \n",
       "4              10.026111              4.968750            1715.445263   \n",
       "..                   ...                   ...                    ...   \n",
       "842            20.402987              5.000000            2082.156880   \n",
       "843            11.223901              4.790698            2383.460366   \n",
       "844            13.496681              5.000000            1996.259680   \n",
       "845            13.776276              4.903846            2145.525287   \n",
       "846            12.398448              5.104167            2337.615356   \n",
       "\n",
       "     AreaShape_BoundingBoxArea_nuclei  AreaShape_BoundingBoxMaximum_X_nuclei  \\\n",
       "0                         3641.637710                            1115.659189   \n",
       "1                         3595.923493                            1103.946315   \n",
       "2                         3542.050967                            1091.662087   \n",
       "3                         3655.140277                            1089.390643   \n",
       "4                         2698.307079                            1042.539294   \n",
       "..                                ...                                    ...   \n",
       "842                       3014.069150                            1076.408519   \n",
       "843                       3494.812003                            1085.155299   \n",
       "844                       2951.947594                            1027.813396   \n",
       "845                       3180.830545                            1094.460819   \n",
       "846                       3393.531905                            1066.854957   \n",
       "\n",
       "     AreaShape_BoundingBoxMaximum_Y_nuclei  \\\n",
       "0                              1105.359249   \n",
       "1                              1113.647177   \n",
       "2                              1114.037379   \n",
       "3                              1122.687979   \n",
       "4                              1133.979970   \n",
       "..                                     ...   \n",
       "842                            1068.403089   \n",
       "843                            1068.350095   \n",
       "844                            1103.537110   \n",
       "845                            1059.192757   \n",
       "846                            1071.892228   \n",
       "\n",
       "     AreaShape_BoundingBoxMinimum_X_nuclei  \\\n",
       "0                              1055.397388   \n",
       "1                              1044.400607   \n",
       "2                              1031.724602   \n",
       "3                              1028.800183   \n",
       "4                               993.095621   \n",
       "..                                     ...   \n",
       "842                            1025.965967   \n",
       "843                            1030.907400   \n",
       "844                             978.226385   \n",
       "845                            1042.688779   \n",
       "846                            1013.413264   \n",
       "\n",
       "     AreaShape_BoundingBoxMinimum_Y_nuclei  ...  \\\n",
       "0                              1044.748298  ...   \n",
       "1                              1053.059617  ...   \n",
       "2                              1054.629479  ...   \n",
       "3                              1062.081933  ...   \n",
       "4                              1082.576196  ...   \n",
       "..                                     ...  ...   \n",
       "842                            1017.558366  ...   \n",
       "843                            1012.764174  ...   \n",
       "844                            1052.836261  ...   \n",
       "845                            1005.678258  ...   \n",
       "846                            1016.421271  ...   \n",
       "\n",
       "     RadialDistribution_ZernikePhase_illumSYTO_8_8_cytoplasm  \\\n",
       "0                                            -0.007249         \n",
       "1                                             0.020761         \n",
       "2                                            -0.056267         \n",
       "3                                             0.044132         \n",
       "4                                             0.011072         \n",
       "..                                                 ...         \n",
       "842                                          -0.099782         \n",
       "843                                          -0.048432         \n",
       "844                                           0.056227         \n",
       "845                                           0.080633         \n",
       "846                                          -0.173023         \n",
       "\n",
       "     RadialDistribution_ZernikePhase_illumSYTO_9_1_cytoplasm  \\\n",
       "0                                             0.037613         \n",
       "1                                             0.017658         \n",
       "2                                            -0.062818         \n",
       "3                                             0.030789         \n",
       "4                                            -0.065412         \n",
       "..                                                 ...         \n",
       "842                                          -0.138100         \n",
       "843                                          -0.170362         \n",
       "844                                          -0.031864         \n",
       "845                                          -0.037189         \n",
       "846                                          -0.076680         \n",
       "\n",
       "     RadialDistribution_ZernikePhase_illumSYTO_9_3_cytoplasm  \\\n",
       "0                                            -0.004677         \n",
       "1                                             0.006239         \n",
       "2                                            -0.000146         \n",
       "3                                            -0.005525         \n",
       "4                                            -0.053279         \n",
       "..                                                 ...         \n",
       "842                                          -0.064953         \n",
       "843                                           0.252728         \n",
       "844                                          -0.069233         \n",
       "845                                          -0.199157         \n",
       "846                                          -0.075674         \n",
       "\n",
       "     RadialDistribution_ZernikePhase_illumSYTO_9_5_cytoplasm  \\\n",
       "0                                             0.029404         \n",
       "1                                             0.016753         \n",
       "2                                             0.000251         \n",
       "3                                             0.026131         \n",
       "4                                            -0.157138         \n",
       "..                                                 ...         \n",
       "842                                           0.028538         \n",
       "843                                           0.184233         \n",
       "844                                           0.052349         \n",
       "845                                           0.027529         \n",
       "846                                           0.135591         \n",
       "\n",
       "     RadialDistribution_ZernikePhase_illumSYTO_9_7_cytoplasm  \\\n",
       "0                                            -0.004017         \n",
       "1                                             0.010671         \n",
       "2                                             0.025794         \n",
       "3                                             0.017409         \n",
       "4                                            -0.003663         \n",
       "..                                                 ...         \n",
       "842                                          -0.088900         \n",
       "843                                           0.153065         \n",
       "844                                           0.003676         \n",
       "845                                          -0.168356         \n",
       "846                                          -0.127453         \n",
       "\n",
       "     RadialDistribution_ZernikePhase_illumSYTO_9_9_cytoplasm      Site  \\\n",
       "0                                            -0.006743        5.239130   \n",
       "1                                            -0.045862        4.909091   \n",
       "2                                            -0.043205        5.187500   \n",
       "3                                             0.006531        5.022222   \n",
       "4                                            -0.152837        4.968750   \n",
       "..                                                 ...             ...   \n",
       "842                                           0.061930        5.000000   \n",
       "843                                           0.110785        4.790698   \n",
       "844                                          -0.093969        5.000000   \n",
       "845                                          -0.187250        4.903846   \n",
       "846                                           0.039446        5.104167   \n",
       "\n",
       "     cmpd_conc  Flag  Count_nuclei  \n",
       "0         10.0   0.0    129.934783  \n",
       "1         10.0   0.0    137.136364  \n",
       "2         10.0   0.0    137.479167  \n",
       "3         10.0   0.0    159.022222  \n",
       "4         10.0   0.0     20.500000  \n",
       "..         ...   ...           ...  \n",
       "842       10.0   0.0     30.416667  \n",
       "843       10.0   0.0     19.302326  \n",
       "844       10.0   0.0     22.541667  \n",
       "845       10.0   0.0     24.596154  \n",
       "846       10.0   0.0     21.666667  \n",
       "\n",
       "[847 rows x 2131 columns]"
      ]
     },
     "execution_count": 8,
     "metadata": {},
     "output_type": "execute_result"
    }
   ],
   "source": [
    "df"
   ]
  },
  {
   "cell_type": "markdown",
   "id": "5b77409c-10d6-45f6-abc9-978a9d89684f",
   "metadata": {},
   "source": [
    "# Loading dataset"
   ]
  },
  {
   "cell_type": "code",
   "execution_count": 9,
   "id": "1e484618-258d-43ca-97b7-aa0fe975905b",
   "metadata": {},
   "outputs": [],
   "source": [
    "# Hyperparameter\n",
    "val_pct = 0.2\n",
    "\n",
    "learning_rate = 1e-4\n",
    "n_epochs = 500\n",
    "n_batch = 16"
   ]
  },
  {
   "cell_type": "code",
   "execution_count": 10,
   "id": "d1e2879e-9b95-429a-b979-5cf84e2374ea",
   "metadata": {},
   "outputs": [],
   "source": [
    "from sklearn.preprocessing import LabelEncoder\n",
    "\n",
    "trainset = df.copy()\n",
    "# testset = pd.read_csv('../input/digit-recognizer/test.csv')\n",
    "\n",
    "le = LabelEncoder()\n",
    "\n",
    "trainLabels = le.fit_transform(df.iloc[:,0])\n",
    "trainSamples = df.iloc[:,1:]"
   ]
  },
  {
   "cell_type": "code",
   "execution_count": 11,
   "id": "04ffc314-caa0-475b-bd96-a088e13d000a",
   "metadata": {},
   "outputs": [],
   "source": [
    "class datasets(Dataset):\n",
    "    def __init__(self, features=torch.tensor(trainSamples.values), labels=torch.tensor(trainLabels)):\n",
    "        self.features = features\n",
    "        self.labels = labels\n",
    "        \n",
    "    def __len__(self):\n",
    "        return len(self.features)\n",
    "    \n",
    "    def __getitem__(self, i):\n",
    "        x = self.features[i, :].float()\n",
    "        y = self.labels[i]\n",
    "        return x,y"
   ]
  },
  {
   "cell_type": "code",
   "execution_count": 12,
   "id": "84bf032f-ff05-45d8-9fae-e385bc4848cb",
   "metadata": {},
   "outputs": [],
   "source": [
    "dataset = datasets()"
   ]
  },
  {
   "cell_type": "code",
   "execution_count": 13,
   "id": "55253e62-540e-4f99-94b0-f2f979675afd",
   "metadata": {},
   "outputs": [],
   "source": [
    "valid_size = int(len(dataset)*val_pct)\n",
    "train_size = int(len(dataset)-valid_size)\n",
    "\n",
    "train_ds, valid_ds = random_split(dataset, [train_size,  valid_size])\n",
    "\n",
    "trainloader = torch.utils.data.DataLoader(train_ds, batch_size=n_batch, shuffle=True, num_workers=0, pin_memory=True)\n",
    "validloader = torch.utils.data.DataLoader(valid_ds, batch_size=n_batch, shuffle=False, num_workers=0, pin_memory=True)"
   ]
  },
  {
   "cell_type": "markdown",
   "id": "d6978d5c-5515-46ff-b711-0366d6c2806a",
   "metadata": {},
   "source": [
    "# Model"
   ]
  },
  {
   "cell_type": "code",
   "execution_count": 14,
   "id": "b4e61618-cf9a-4856-b7f4-316538a95a93",
   "metadata": {},
   "outputs": [],
   "source": [
    "# since all loss are the same, it should be defined in the self instead of every training/valid step\n",
    "\n",
    "class specs_ann(pl.LightningModule):\n",
    "    def __init__(self):\n",
    "        super().__init__()\n",
    "        self.train_acc = Accuracy()\n",
    "        self.valid_acc = Accuracy()\n",
    "        self.test_acc = Accuracy()\n",
    "        \n",
    "        self.fc = nn.Sequential(\n",
    "            nn.Linear(2130, 64),\n",
    "            nn.ReLU(),\n",
    "            nn.Linear(64, 64),\n",
    "            nn.ReLU(),\n",
    "            nn.Linear(64, 64),\n",
    "            nn.ReLU(),\n",
    "            nn.Linear(64, 64),\n",
    "            nn.ReLU(),\n",
    "            nn.Linear(64, 30)\n",
    "        )\n",
    "        \n",
    "    def forward(self, x):\n",
    "        out = x.view(x.size(0), -1)\n",
    "        out = self.fc(out)\n",
    "        return out\n",
    "\n",
    "    def training_step(self, batch, batch_idx):\n",
    "        x, y = batch\n",
    "        logits = self(x)\n",
    "        loss = nn.functional.cross_entropy(logits, y)\n",
    "        preds = torch.argmax(logits, dim=1)\n",
    "        self.train_acc.update(preds, y)\n",
    "        self.log(\"train_loss\", loss, prog_bar=True)\n",
    "        return loss\n",
    "\n",
    "    def training_epoch_end(self, outs):\n",
    "        self.log(\"train_acc\", self.train_acc.compute())\n",
    "        self.train_acc.reset()\n",
    "    \n",
    "    def validation_step(self, batch, batch_idx):\n",
    "        x, y = batch\n",
    "        logits = self(x)\n",
    "        loss = nn.functional.cross_entropy(logits, y)\n",
    "        preds = torch.argmax(logits, dim=1)\n",
    "        self.valid_acc.update(preds, y)\n",
    "        self.log(\"valid_loss\", loss, prog_bar=True)\n",
    "        return loss\n",
    "    \n",
    "    def validation_epoch_end(self, outs):\n",
    "        self.log(\"valid_acc\", self.valid_acc.compute(), prog_bar=True)\n",
    "        self.valid_acc.reset()\n",
    "\n",
    "    def test_step(self, batch, batch_idx):\n",
    "        x, y = batch\n",
    "        logits = self(x)\n",
    "        loss = nn.functional.cross_entropy(logits, y)\n",
    "        preds = torch.argmax(logits, dim=1)\n",
    "        self.test_acc.update(preds, y)\n",
    "        self.log(\"test_loss\", loss, prog_bar=True)\n",
    "        self.log(\"test_acc\", self.test_acc.compute(), prog_bar=True)\n",
    "        return loss\n",
    "\n",
    "    def configure_optimizers(self):\n",
    "        optimizer = torch.optim.Adam(self.parameters(), lr=0.001)\n",
    "        return optimizer"
   ]
  },
  {
   "cell_type": "code",
   "execution_count": 15,
   "id": "aa025c85-8382-42c7-91bc-2f74bfe4d3fa",
   "metadata": {},
   "outputs": [
    {
     "name": "stderr",
     "output_type": "stream",
     "text": [
      "GPU available: True (cuda), used: True\n",
      "TPU available: False, using: 0 TPU cores\n",
      "IPU available: False, using: 0 IPUs\n",
      "HPU available: False, using: 0 HPUs\n",
      "LOCAL_RANK: 0 - CUDA_VISIBLE_DEVICES: [0]\n",
      "\n",
      "  | Name      | Type       | Params\n",
      "-----------------------------------------\n",
      "0 | train_acc | Accuracy   | 0     \n",
      "1 | valid_acc | Accuracy   | 0     \n",
      "2 | test_acc  | Accuracy   | 0     \n",
      "3 | fc        | Sequential | 150 K \n",
      "-----------------------------------------\n",
      "150 K     Trainable params\n",
      "0         Non-trainable params\n",
      "150 K     Total params\n",
      "0.603     Total estimated model params size (MB)\n"
     ]
    },
    {
     "data": {
      "application/vnd.jupyter.widget-view+json": {
       "model_id": "58387edbc82c4b56bd68949c4c524690",
       "version_major": 2,
       "version_minor": 0
      },
      "text/plain": [
       "Sanity Checking: 0it [00:00, ?it/s]"
      ]
     },
     "metadata": {},
     "output_type": "display_data"
    },
    {
     "name": "stderr",
     "output_type": "stream",
     "text": [
      "/home/jovyan/miniconda3/lib/python3.9/site-packages/pytorch_lightning/trainer/connectors/data_connector.py:236: PossibleUserWarning: The dataloader, val_dataloader 0, does not have many workers which may be a bottleneck. Consider increasing the value of the `num_workers` argument` (try 48 which is the number of cpus on this machine) in the `DataLoader` init to improve performance.\n",
      "  rank_zero_warn(\n",
      "/home/jovyan/miniconda3/lib/python3.9/site-packages/pytorch_lightning/trainer/connectors/data_connector.py:236: PossibleUserWarning: The dataloader, train_dataloader, does not have many workers which may be a bottleneck. Consider increasing the value of the `num_workers` argument` (try 48 which is the number of cpus on this machine) in the `DataLoader` init to improve performance.\n",
      "  rank_zero_warn(\n",
      "/home/jovyan/miniconda3/lib/python3.9/site-packages/pytorch_lightning/trainer/trainer.py:1892: PossibleUserWarning: The number of training batches (43) is smaller than the logging interval Trainer(log_every_n_steps=50). Set a lower value for log_every_n_steps if you want to see logs for the training epoch.\n",
      "  rank_zero_warn(\n"
     ]
    },
    {
     "data": {
      "application/vnd.jupyter.widget-view+json": {
       "model_id": "fd28f32545674db389c2472a7d70ecf1",
       "version_major": 2,
       "version_minor": 0
      },
      "text/plain": [
       "Training: 0it [00:00, ?it/s]"
      ]
     },
     "metadata": {},
     "output_type": "display_data"
    },
    {
     "data": {
      "application/vnd.jupyter.widget-view+json": {
       "model_id": "6fbb58513f174341bec9e0ba7deeb8d5",
       "version_major": 2,
       "version_minor": 0
      },
      "text/plain": [
       "Validation: 0it [00:00, ?it/s]"
      ]
     },
     "metadata": {},
     "output_type": "display_data"
    },
    {
     "data": {
      "application/vnd.jupyter.widget-view+json": {
       "model_id": "489e1ca4af58404d965c79559b48ef97",
       "version_major": 2,
       "version_minor": 0
      },
      "text/plain": [
       "Validation: 0it [00:00, ?it/s]"
      ]
     },
     "metadata": {},
     "output_type": "display_data"
    },
    {
     "data": {
      "application/vnd.jupyter.widget-view+json": {
       "model_id": "469e392a39c6477c88fa0e20a4053598",
       "version_major": 2,
       "version_minor": 0
      },
      "text/plain": [
       "Validation: 0it [00:00, ?it/s]"
      ]
     },
     "metadata": {},
     "output_type": "display_data"
    },
    {
     "data": {
      "application/vnd.jupyter.widget-view+json": {
       "model_id": "bf979ad627d74ce291b549cf60b12a8c",
       "version_major": 2,
       "version_minor": 0
      },
      "text/plain": [
       "Validation: 0it [00:00, ?it/s]"
      ]
     },
     "metadata": {},
     "output_type": "display_data"
    },
    {
     "data": {
      "application/vnd.jupyter.widget-view+json": {
       "model_id": "d49cfd0ad8794986b5e902d588c6977f",
       "version_major": 2,
       "version_minor": 0
      },
      "text/plain": [
       "Validation: 0it [00:00, ?it/s]"
      ]
     },
     "metadata": {},
     "output_type": "display_data"
    },
    {
     "data": {
      "application/vnd.jupyter.widget-view+json": {
       "model_id": "11846ad0201e47088abdfc99485150fb",
       "version_major": 2,
       "version_minor": 0
      },
      "text/plain": [
       "Validation: 0it [00:00, ?it/s]"
      ]
     },
     "metadata": {},
     "output_type": "display_data"
    },
    {
     "data": {
      "application/vnd.jupyter.widget-view+json": {
       "model_id": "ad58b49e061e4377a8c0102409011bef",
       "version_major": 2,
       "version_minor": 0
      },
      "text/plain": [
       "Validation: 0it [00:00, ?it/s]"
      ]
     },
     "metadata": {},
     "output_type": "display_data"
    },
    {
     "data": {
      "application/vnd.jupyter.widget-view+json": {
       "model_id": "c3daf3940de445db9105d7fb3a0b4272",
       "version_major": 2,
       "version_minor": 0
      },
      "text/plain": [
       "Validation: 0it [00:00, ?it/s]"
      ]
     },
     "metadata": {},
     "output_type": "display_data"
    },
    {
     "data": {
      "application/vnd.jupyter.widget-view+json": {
       "model_id": "fc880e18d3364c0aa5b900fdd5b5dce5",
       "version_major": 2,
       "version_minor": 0
      },
      "text/plain": [
       "Validation: 0it [00:00, ?it/s]"
      ]
     },
     "metadata": {},
     "output_type": "display_data"
    },
    {
     "data": {
      "application/vnd.jupyter.widget-view+json": {
       "model_id": "b1b5b272aeb0406798631ebe74c8c1b2",
       "version_major": 2,
       "version_minor": 0
      },
      "text/plain": [
       "Validation: 0it [00:00, ?it/s]"
      ]
     },
     "metadata": {},
     "output_type": "display_data"
    },
    {
     "data": {
      "application/vnd.jupyter.widget-view+json": {
       "model_id": "c185a1d6fb4345fda81b8b909c4f0d60",
       "version_major": 2,
       "version_minor": 0
      },
      "text/plain": [
       "Validation: 0it [00:00, ?it/s]"
      ]
     },
     "metadata": {},
     "output_type": "display_data"
    },
    {
     "data": {
      "application/vnd.jupyter.widget-view+json": {
       "model_id": "e227febf984f418c997810e99a2c2d41",
       "version_major": 2,
       "version_minor": 0
      },
      "text/plain": [
       "Validation: 0it [00:00, ?it/s]"
      ]
     },
     "metadata": {},
     "output_type": "display_data"
    },
    {
     "data": {
      "application/vnd.jupyter.widget-view+json": {
       "model_id": "6f47439948fe43aebe7d8aae42207461",
       "version_major": 2,
       "version_minor": 0
      },
      "text/plain": [
       "Validation: 0it [00:00, ?it/s]"
      ]
     },
     "metadata": {},
     "output_type": "display_data"
    },
    {
     "data": {
      "application/vnd.jupyter.widget-view+json": {
       "model_id": "07e13eb255ef45179616200c328900b1",
       "version_major": 2,
       "version_minor": 0
      },
      "text/plain": [
       "Validation: 0it [00:00, ?it/s]"
      ]
     },
     "metadata": {},
     "output_type": "display_data"
    },
    {
     "data": {
      "application/vnd.jupyter.widget-view+json": {
       "model_id": "439b3fbb95a3494994a2ce02da08556d",
       "version_major": 2,
       "version_minor": 0
      },
      "text/plain": [
       "Validation: 0it [00:00, ?it/s]"
      ]
     },
     "metadata": {},
     "output_type": "display_data"
    },
    {
     "data": {
      "application/vnd.jupyter.widget-view+json": {
       "model_id": "d0f452e8f4a142a89bce5063ad1577dc",
       "version_major": 2,
       "version_minor": 0
      },
      "text/plain": [
       "Validation: 0it [00:00, ?it/s]"
      ]
     },
     "metadata": {},
     "output_type": "display_data"
    },
    {
     "data": {
      "application/vnd.jupyter.widget-view+json": {
       "model_id": "dd6bee056eac4fad835f9d19a91ee90d",
       "version_major": 2,
       "version_minor": 0
      },
      "text/plain": [
       "Validation: 0it [00:00, ?it/s]"
      ]
     },
     "metadata": {},
     "output_type": "display_data"
    },
    {
     "data": {
      "application/vnd.jupyter.widget-view+json": {
       "model_id": "b00bd07755ef4fb99f0e3d96aa47c0a3",
       "version_major": 2,
       "version_minor": 0
      },
      "text/plain": [
       "Validation: 0it [00:00, ?it/s]"
      ]
     },
     "metadata": {},
     "output_type": "display_data"
    },
    {
     "data": {
      "application/vnd.jupyter.widget-view+json": {
       "model_id": "21cdb785c9f341dd9f188eb6a91f088c",
       "version_major": 2,
       "version_minor": 0
      },
      "text/plain": [
       "Validation: 0it [00:00, ?it/s]"
      ]
     },
     "metadata": {},
     "output_type": "display_data"
    },
    {
     "data": {
      "application/vnd.jupyter.widget-view+json": {
       "model_id": "66dd8dcec6dd457995315475f0882aee",
       "version_major": 2,
       "version_minor": 0
      },
      "text/plain": [
       "Validation: 0it [00:00, ?it/s]"
      ]
     },
     "metadata": {},
     "output_type": "display_data"
    },
    {
     "data": {
      "application/vnd.jupyter.widget-view+json": {
       "model_id": "7c149317465b45038e5320bbcfe4b2ac",
       "version_major": 2,
       "version_minor": 0
      },
      "text/plain": [
       "Validation: 0it [00:00, ?it/s]"
      ]
     },
     "metadata": {},
     "output_type": "display_data"
    },
    {
     "data": {
      "application/vnd.jupyter.widget-view+json": {
       "model_id": "bf4a24a3c4f44717b8a7f5c49aea39b2",
       "version_major": 2,
       "version_minor": 0
      },
      "text/plain": [
       "Validation: 0it [00:00, ?it/s]"
      ]
     },
     "metadata": {},
     "output_type": "display_data"
    },
    {
     "data": {
      "application/vnd.jupyter.widget-view+json": {
       "model_id": "660462add4e340be8b0ef2287d4e4e68",
       "version_major": 2,
       "version_minor": 0
      },
      "text/plain": [
       "Validation: 0it [00:00, ?it/s]"
      ]
     },
     "metadata": {},
     "output_type": "display_data"
    },
    {
     "data": {
      "application/vnd.jupyter.widget-view+json": {
       "model_id": "35d98b70b8d941fbb0314daf46def574",
       "version_major": 2,
       "version_minor": 0
      },
      "text/plain": [
       "Validation: 0it [00:00, ?it/s]"
      ]
     },
     "metadata": {},
     "output_type": "display_data"
    },
    {
     "data": {
      "application/vnd.jupyter.widget-view+json": {
       "model_id": "fc85940c751b462992330e71d46608dd",
       "version_major": 2,
       "version_minor": 0
      },
      "text/plain": [
       "Validation: 0it [00:00, ?it/s]"
      ]
     },
     "metadata": {},
     "output_type": "display_data"
    },
    {
     "data": {
      "application/vnd.jupyter.widget-view+json": {
       "model_id": "13952c9a50414fc8bef3c22b6cbc6370",
       "version_major": 2,
       "version_minor": 0
      },
      "text/plain": [
       "Validation: 0it [00:00, ?it/s]"
      ]
     },
     "metadata": {},
     "output_type": "display_data"
    },
    {
     "data": {
      "application/vnd.jupyter.widget-view+json": {
       "model_id": "c1b6a951655f439397c9ca223638faa2",
       "version_major": 2,
       "version_minor": 0
      },
      "text/plain": [
       "Validation: 0it [00:00, ?it/s]"
      ]
     },
     "metadata": {},
     "output_type": "display_data"
    },
    {
     "data": {
      "application/vnd.jupyter.widget-view+json": {
       "model_id": "35374d46779945f7950fbf2d68eb52a5",
       "version_major": 2,
       "version_minor": 0
      },
      "text/plain": [
       "Validation: 0it [00:00, ?it/s]"
      ]
     },
     "metadata": {},
     "output_type": "display_data"
    },
    {
     "data": {
      "application/vnd.jupyter.widget-view+json": {
       "model_id": "cb77f6a9b60e454981a687029c52dbd8",
       "version_major": 2,
       "version_minor": 0
      },
      "text/plain": [
       "Validation: 0it [00:00, ?it/s]"
      ]
     },
     "metadata": {},
     "output_type": "display_data"
    },
    {
     "data": {
      "application/vnd.jupyter.widget-view+json": {
       "model_id": "ffc2cf6198d14d0a9cbb784d4c39ca7c",
       "version_major": 2,
       "version_minor": 0
      },
      "text/plain": [
       "Validation: 0it [00:00, ?it/s]"
      ]
     },
     "metadata": {},
     "output_type": "display_data"
    },
    {
     "data": {
      "application/vnd.jupyter.widget-view+json": {
       "model_id": "0a5b19e77d9940ffb25cff584ae849da",
       "version_major": 2,
       "version_minor": 0
      },
      "text/plain": [
       "Validation: 0it [00:00, ?it/s]"
      ]
     },
     "metadata": {},
     "output_type": "display_data"
    },
    {
     "data": {
      "application/vnd.jupyter.widget-view+json": {
       "model_id": "c66a267a61644aafa5232580324ac394",
       "version_major": 2,
       "version_minor": 0
      },
      "text/plain": [
       "Validation: 0it [00:00, ?it/s]"
      ]
     },
     "metadata": {},
     "output_type": "display_data"
    },
    {
     "data": {
      "application/vnd.jupyter.widget-view+json": {
       "model_id": "ac01b03503684d6ca0ebbe6860102e0f",
       "version_major": 2,
       "version_minor": 0
      },
      "text/plain": [
       "Validation: 0it [00:00, ?it/s]"
      ]
     },
     "metadata": {},
     "output_type": "display_data"
    },
    {
     "data": {
      "application/vnd.jupyter.widget-view+json": {
       "model_id": "6aa7a513fd4f41fe882da7b130d0d8dc",
       "version_major": 2,
       "version_minor": 0
      },
      "text/plain": [
       "Validation: 0it [00:00, ?it/s]"
      ]
     },
     "metadata": {},
     "output_type": "display_data"
    },
    {
     "data": {
      "application/vnd.jupyter.widget-view+json": {
       "model_id": "11c51a68efb04f35a84a80a0af7e4e7a",
       "version_major": 2,
       "version_minor": 0
      },
      "text/plain": [
       "Validation: 0it [00:00, ?it/s]"
      ]
     },
     "metadata": {},
     "output_type": "display_data"
    },
    {
     "data": {
      "application/vnd.jupyter.widget-view+json": {
       "model_id": "46206f4094a445a2913871bda1fa5c47",
       "version_major": 2,
       "version_minor": 0
      },
      "text/plain": [
       "Validation: 0it [00:00, ?it/s]"
      ]
     },
     "metadata": {},
     "output_type": "display_data"
    },
    {
     "data": {
      "application/vnd.jupyter.widget-view+json": {
       "model_id": "8d440e7a463f479d95bdd70905c71374",
       "version_major": 2,
       "version_minor": 0
      },
      "text/plain": [
       "Validation: 0it [00:00, ?it/s]"
      ]
     },
     "metadata": {},
     "output_type": "display_data"
    },
    {
     "data": {
      "application/vnd.jupyter.widget-view+json": {
       "model_id": "f17c0b7b39ea48168c92c9201c787c43",
       "version_major": 2,
       "version_minor": 0
      },
      "text/plain": [
       "Validation: 0it [00:00, ?it/s]"
      ]
     },
     "metadata": {},
     "output_type": "display_data"
    },
    {
     "data": {
      "application/vnd.jupyter.widget-view+json": {
       "model_id": "59772bddbb4f45039763b1df01b12f86",
       "version_major": 2,
       "version_minor": 0
      },
      "text/plain": [
       "Validation: 0it [00:00, ?it/s]"
      ]
     },
     "metadata": {},
     "output_type": "display_data"
    },
    {
     "data": {
      "application/vnd.jupyter.widget-view+json": {
       "model_id": "ffe693e6b5c44f65bbd91c3b8bbbaf3a",
       "version_major": 2,
       "version_minor": 0
      },
      "text/plain": [
       "Validation: 0it [00:00, ?it/s]"
      ]
     },
     "metadata": {},
     "output_type": "display_data"
    },
    {
     "data": {
      "application/vnd.jupyter.widget-view+json": {
       "model_id": "3b264cc9caa548d9aeeee68ff718da51",
       "version_major": 2,
       "version_minor": 0
      },
      "text/plain": [
       "Validation: 0it [00:00, ?it/s]"
      ]
     },
     "metadata": {},
     "output_type": "display_data"
    },
    {
     "data": {
      "application/vnd.jupyter.widget-view+json": {
       "model_id": "29ce6931f68b42d69fb0562ada5a799b",
       "version_major": 2,
       "version_minor": 0
      },
      "text/plain": [
       "Validation: 0it [00:00, ?it/s]"
      ]
     },
     "metadata": {},
     "output_type": "display_data"
    },
    {
     "data": {
      "application/vnd.jupyter.widget-view+json": {
       "model_id": "e000af8df2bd41afa84856c83fd75aa6",
       "version_major": 2,
       "version_minor": 0
      },
      "text/plain": [
       "Validation: 0it [00:00, ?it/s]"
      ]
     },
     "metadata": {},
     "output_type": "display_data"
    },
    {
     "data": {
      "application/vnd.jupyter.widget-view+json": {
       "model_id": "6e4e0a758106485eb38917a3cf716972",
       "version_major": 2,
       "version_minor": 0
      },
      "text/plain": [
       "Validation: 0it [00:00, ?it/s]"
      ]
     },
     "metadata": {},
     "output_type": "display_data"
    },
    {
     "data": {
      "application/vnd.jupyter.widget-view+json": {
       "model_id": "890c520b2c8b40e5b5c18a65ad807583",
       "version_major": 2,
       "version_minor": 0
      },
      "text/plain": [
       "Validation: 0it [00:00, ?it/s]"
      ]
     },
     "metadata": {},
     "output_type": "display_data"
    },
    {
     "data": {
      "application/vnd.jupyter.widget-view+json": {
       "model_id": "ef6e7a1b112b4f0f91cef0a23cbd2931",
       "version_major": 2,
       "version_minor": 0
      },
      "text/plain": [
       "Validation: 0it [00:00, ?it/s]"
      ]
     },
     "metadata": {},
     "output_type": "display_data"
    },
    {
     "data": {
      "application/vnd.jupyter.widget-view+json": {
       "model_id": "902f8ea6f1304cb58e08cbdbe2240367",
       "version_major": 2,
       "version_minor": 0
      },
      "text/plain": [
       "Validation: 0it [00:00, ?it/s]"
      ]
     },
     "metadata": {},
     "output_type": "display_data"
    },
    {
     "data": {
      "application/vnd.jupyter.widget-view+json": {
       "model_id": "4d1ba30d207a460183906493e1163633",
       "version_major": 2,
       "version_minor": 0
      },
      "text/plain": [
       "Validation: 0it [00:00, ?it/s]"
      ]
     },
     "metadata": {},
     "output_type": "display_data"
    },
    {
     "data": {
      "application/vnd.jupyter.widget-view+json": {
       "model_id": "41a8c85bf55449cab07d994458dec72d",
       "version_major": 2,
       "version_minor": 0
      },
      "text/plain": [
       "Validation: 0it [00:00, ?it/s]"
      ]
     },
     "metadata": {},
     "output_type": "display_data"
    },
    {
     "data": {
      "application/vnd.jupyter.widget-view+json": {
       "model_id": "54d02e6b0e244b118888c1a07e3f12d6",
       "version_major": 2,
       "version_minor": 0
      },
      "text/plain": [
       "Validation: 0it [00:00, ?it/s]"
      ]
     },
     "metadata": {},
     "output_type": "display_data"
    },
    {
     "data": {
      "application/vnd.jupyter.widget-view+json": {
       "model_id": "762297f0caf04338b44228e363d9765c",
       "version_major": 2,
       "version_minor": 0
      },
      "text/plain": [
       "Validation: 0it [00:00, ?it/s]"
      ]
     },
     "metadata": {},
     "output_type": "display_data"
    },
    {
     "data": {
      "application/vnd.jupyter.widget-view+json": {
       "model_id": "ee704b9aa5ea4fc8bf9f7e5a7844fee0",
       "version_major": 2,
       "version_minor": 0
      },
      "text/plain": [
       "Validation: 0it [00:00, ?it/s]"
      ]
     },
     "metadata": {},
     "output_type": "display_data"
    },
    {
     "data": {
      "application/vnd.jupyter.widget-view+json": {
       "model_id": "21ca001462394720b52cd3742a98d644",
       "version_major": 2,
       "version_minor": 0
      },
      "text/plain": [
       "Validation: 0it [00:00, ?it/s]"
      ]
     },
     "metadata": {},
     "output_type": "display_data"
    },
    {
     "data": {
      "application/vnd.jupyter.widget-view+json": {
       "model_id": "4f1cc59538334dd9ae67d08813dbabf4",
       "version_major": 2,
       "version_minor": 0
      },
      "text/plain": [
       "Validation: 0it [00:00, ?it/s]"
      ]
     },
     "metadata": {},
     "output_type": "display_data"
    },
    {
     "data": {
      "application/vnd.jupyter.widget-view+json": {
       "model_id": "a30c06aba94740668e11c8447cc7457a",
       "version_major": 2,
       "version_minor": 0
      },
      "text/plain": [
       "Validation: 0it [00:00, ?it/s]"
      ]
     },
     "metadata": {},
     "output_type": "display_data"
    },
    {
     "data": {
      "application/vnd.jupyter.widget-view+json": {
       "model_id": "41236269f526431bbcb7f0cd577acc13",
       "version_major": 2,
       "version_minor": 0
      },
      "text/plain": [
       "Validation: 0it [00:00, ?it/s]"
      ]
     },
     "metadata": {},
     "output_type": "display_data"
    },
    {
     "data": {
      "application/vnd.jupyter.widget-view+json": {
       "model_id": "2342f9943fbd43ecb59b03bb0dafad37",
       "version_major": 2,
       "version_minor": 0
      },
      "text/plain": [
       "Validation: 0it [00:00, ?it/s]"
      ]
     },
     "metadata": {},
     "output_type": "display_data"
    },
    {
     "data": {
      "application/vnd.jupyter.widget-view+json": {
       "model_id": "e5c59d7487794011ae05c63f2171298f",
       "version_major": 2,
       "version_minor": 0
      },
      "text/plain": [
       "Validation: 0it [00:00, ?it/s]"
      ]
     },
     "metadata": {},
     "output_type": "display_data"
    },
    {
     "data": {
      "application/vnd.jupyter.widget-view+json": {
       "model_id": "a720e14a661b40dcaf84e58ea8cc57e5",
       "version_major": 2,
       "version_minor": 0
      },
      "text/plain": [
       "Validation: 0it [00:00, ?it/s]"
      ]
     },
     "metadata": {},
     "output_type": "display_data"
    },
    {
     "data": {
      "application/vnd.jupyter.widget-view+json": {
       "model_id": "10099286cb0d488aab3ff99c43b1e7ff",
       "version_major": 2,
       "version_minor": 0
      },
      "text/plain": [
       "Validation: 0it [00:00, ?it/s]"
      ]
     },
     "metadata": {},
     "output_type": "display_data"
    },
    {
     "data": {
      "application/vnd.jupyter.widget-view+json": {
       "model_id": "341c647e0a614d4a8580851d106d2820",
       "version_major": 2,
       "version_minor": 0
      },
      "text/plain": [
       "Validation: 0it [00:00, ?it/s]"
      ]
     },
     "metadata": {},
     "output_type": "display_data"
    },
    {
     "data": {
      "application/vnd.jupyter.widget-view+json": {
       "model_id": "758f91c5dc6d41d9a38a039318e415ed",
       "version_major": 2,
       "version_minor": 0
      },
      "text/plain": [
       "Validation: 0it [00:00, ?it/s]"
      ]
     },
     "metadata": {},
     "output_type": "display_data"
    },
    {
     "data": {
      "application/vnd.jupyter.widget-view+json": {
       "model_id": "b8f20ef2b838417e996e2604762eb9fe",
       "version_major": 2,
       "version_minor": 0
      },
      "text/plain": [
       "Validation: 0it [00:00, ?it/s]"
      ]
     },
     "metadata": {},
     "output_type": "display_data"
    },
    {
     "data": {
      "application/vnd.jupyter.widget-view+json": {
       "model_id": "3c9d6eba4c2a45f89a481b4a7a337359",
       "version_major": 2,
       "version_minor": 0
      },
      "text/plain": [
       "Validation: 0it [00:00, ?it/s]"
      ]
     },
     "metadata": {},
     "output_type": "display_data"
    },
    {
     "data": {
      "application/vnd.jupyter.widget-view+json": {
       "model_id": "810b838f21be4cd0acce8e8fa5b47f44",
       "version_major": 2,
       "version_minor": 0
      },
      "text/plain": [
       "Validation: 0it [00:00, ?it/s]"
      ]
     },
     "metadata": {},
     "output_type": "display_data"
    },
    {
     "data": {
      "application/vnd.jupyter.widget-view+json": {
       "model_id": "54307096d36f4175b114a6be24cd02aa",
       "version_major": 2,
       "version_minor": 0
      },
      "text/plain": [
       "Validation: 0it [00:00, ?it/s]"
      ]
     },
     "metadata": {},
     "output_type": "display_data"
    },
    {
     "data": {
      "application/vnd.jupyter.widget-view+json": {
       "model_id": "e473182d63054c7c8114e468a5255302",
       "version_major": 2,
       "version_minor": 0
      },
      "text/plain": [
       "Validation: 0it [00:00, ?it/s]"
      ]
     },
     "metadata": {},
     "output_type": "display_data"
    }
   ],
   "source": [
    "from pytorch_lightning.callbacks import ModelCheckpoint\n",
    "\n",
    "model = specs_ann()\n",
    "\n",
    "callbacks = [ModelCheckpoint(save_top_k=1, mode='max', monitor=\"valid_acc\")] # save top 1 model\n",
    "\n",
    "if torch.cuda.is_available(): # if you have GPUs\n",
    "    trainer = pl.Trainer(max_epochs=n_epochs, callbacks=callbacks, accelerator='gpu', devices=1)\n",
    "else:\n",
    "    trainer = pl.Trainer(max_epochs=n_epochs, callbacks=callbacks)\n",
    "\n",
    "trainer.fit(model, trainloader, validloader)"
   ]
  },
  {
   "cell_type": "code",
   "execution_count": null,
   "id": "d42d01a4-2670-4069-9075-38845c33fe88",
   "metadata": {},
   "outputs": [
    {
     "ename": "NameError",
     "evalue": "name 'mnist_dm' is not defined",
     "output_type": "error",
     "traceback": [
      "\u001b[0;31m---------------------------------------------------------------------------\u001b[0m",
      "\u001b[0;31mNameError\u001b[0m                                 Traceback (most recent call last)",
      "Input \u001b[0;32mIn [21]\u001b[0m, in \u001b[0;36m<cell line: 1>\u001b[0;34m()\u001b[0m\n\u001b[0;32m----> 1\u001b[0m trainer\u001b[38;5;241m.\u001b[39mtest(model, datamodule\u001b[38;5;241m=\u001b[39m\u001b[43mmnist_dm\u001b[49m, ckpt_path\u001b[38;5;241m=\u001b[39m\u001b[38;5;124m'\u001b[39m\u001b[38;5;124mbest\u001b[39m\u001b[38;5;124m'\u001b[39m)\n",
      "\u001b[0;31mNameError\u001b[0m: name 'mnist_dm' is not defined"
     ]
    }
   ],
   "source": [
    "trainer.test(model, testloader, ckpt_path='best')"
   ]
  },
  {
   "cell_type": "code",
   "execution_count": null,
   "id": "441c34f4-880e-4cde-908f-bc83bd92dd59",
   "metadata": {},
   "outputs": [],
   "source": [
    "!tensorboard --logdir ."
   ]
  }
 ],
 "metadata": {
  "kernelspec": {
   "display_name": "GNN",
   "language": "python",
   "name": "base"
  },
  "language_info": {
   "codemirror_mode": {
    "name": "ipython",
    "version": 3
   },
   "file_extension": ".py",
   "mimetype": "text/x-python",
   "name": "python",
   "nbconvert_exporter": "python",
   "pygments_lexer": "ipython3",
   "version": "3.9.12"
  }
 },
 "nbformat": 4,
 "nbformat_minor": 5
}
