{
 "cells": [
  {
   "cell_type": "code",
   "execution_count": 3,
   "id": "466d3271-90b8-4cac-a1bd-355e2c46e0e1",
   "metadata": {},
   "outputs": [
    {
     "name": "stderr",
     "output_type": "stream",
     "text": [
      "RDKit WARNING: [13:28:05] Enabling RDKit 2019.09.1 jupyter extensions\n"
     ]
    },
    {
     "data": {
      "text/plain": [
       "'0000000000000000000000000000000001000000010000000000000000000000000000000000000010000000000000000000000000000000000010000000100010000000100010000000000000000000000000000000000000000000000000001000010000000000000000000000000000000001000001000000000000000001000000000000000000000000000001001000000000000100000000100000000000000000000001000000000000000000000010000000000000000000001000000000000000100000000000000000000000000000000000000000000000000000000000001000000010000000000000000000000001000000000000000000000000000000000000000000000000000000000001000000000000000000000000000000000000000000000000001000000000001000000000100000000000000010000000000010000000010000000000000000000000000000000000000001000000000000000000000000001000100000000001000001000000000001000000010000000000000100100000000000000000000001000100000000000000000000000000000000000001000000000000000000000000000001000000000000010010000000000000000000000000000010000000010000010001010000000000000000000000000100000010000000000000000000000000000000000000010000'"
      ]
     },
     "execution_count": 3,
     "metadata": {},
     "output_type": "execute_result"
    }
   ],
   "source": [
    "import rdkit\n",
    "from rdkit.Chem import AllChem\n",
    "def calc_fingerprint(smiles):\n",
    "    fingerprint=rdkit.Chem.AllChem.GetMorganFingerprintAsBitVect(\n",
    "        rdkit.Chem.MolFromSmiles(smiles), # mol\n",
    "        2, # radius\n",
    "        1024, # nbits\n",
    "        useChirality=False\n",
    "    )\n",
    "    return \"\".join([str(c) for c in fingerprint])\n",
    "calc_fingerprint('CSc1ccc(CNC(=O)Cn2cc(nn2)-c2ccc(CN3CCC(C)CC3)cc2)cc1')"
   ]
  },
  {
   "cell_type": "code",
   "execution_count": null,
   "id": "1419ad24-01b1-4528-80b4-973dae8680be",
   "metadata": {},
   "outputs": [],
   "source": [
    "C[C@H]1/C=C/C=C/C=C/C=C/C=C/C=C/C=C/[C@@H](C[C@H]2[C@@H]([C@H](C[C@](O2)(C[C@H](C[C@H]([C@@H](CC[C@H](C[C@H](CC(=O)O[C@H]([C@@H]([C@@H]1O)C)C)O)O)O)O)O)O)O)C(=O)O)O[C@H]3[C@H]([C@H]([C@@H]([C@H](O3)C)O)N)O"
   ]
  },
  {
   "cell_type": "code",
   "execution_count": 90,
   "id": "d41bd342-e6c3-4f06-acdc-54134f2654e5",
   "metadata": {},
   "outputs": [
    {
     "data": {
      "text/plain": [
       "'0100000000000000000000000010000001011000100000100000000000011000100000000100010010000000000000000000010000000000000000000000000000100000000000000001000000000000000100000000100000000000000000000000000000000000001000000000000000000001010000000000000000000000000000000000100000000000100001000000000000010100000000000010000000000000000000010000000000000000000011000000000000000000000000000000010000000000000000010000000000000000000000000000001000000000000000000000000100000000000000000000000000000000000000000000000000000000000000000000010000000000000000110000000000000010000100000000000000000011010000000000000010001000000000000000100000000000000000000010000010000000000000000000001100000000000000010001000100000000000000000010000000000100000000000000001000000000000000000000000000000000000000001001000000101001110000000000000000000000000100000000000001000000000001100000010000000001001000000000010001000000000000000000000000000010010001000000000010000000000000000000000000100000000000000000000000000000000000000000000000010000'"
      ]
     },
     "execution_count": 90,
     "metadata": {},
     "output_type": "execute_result"
    }
   ],
   "source": [
    "calc_fingerprint(\"C[C@H]([C@@H](O)[C@@H](C)[C@H](C)OC1=O)/C=C/C=C/C=C/C=C/C=C/C=C/C=C/[C@H](O[C@]2([H])O[C@H](C)[C@@H](O)[C@H](N)[C@@H]2O)C[C@@]3([H])[C@H](C(O)=O)[C@@H](O)C[C@](C[C@@H](O)C[C@@H](O)[C@H](O)CC[C@@H](O)C[C@@H](O)C1)(O)O3\")"
   ]
  },
  {
   "cell_type": "code",
   "execution_count": 4,
   "id": "73d49d76-77ea-4a42-8e46-4e9d17279f72",
   "metadata": {},
   "outputs": [],
   "source": [
    "import pandas as pd\n",
    "import numpy as np"
   ]
  },
  {
   "cell_type": "code",
   "execution_count": 63,
   "id": "09ef89c3-893c-4a1b-b645-e553b85ec283",
   "metadata": {},
   "outputs": [],
   "source": [
    "smiles = pd.read_csv('data/smiles.csv')"
   ]
  },
  {
   "cell_type": "code",
   "execution_count": 64,
   "id": "594aff16-425a-49f5-a130-789359928106",
   "metadata": {},
   "outputs": [
    {
     "data": {
      "text/html": [
       "<div>\n",
       "<style scoped>\n",
       "    .dataframe tbody tr th:only-of-type {\n",
       "        vertical-align: middle;\n",
       "    }\n",
       "\n",
       "    .dataframe tbody tr th {\n",
       "        vertical-align: top;\n",
       "    }\n",
       "\n",
       "    .dataframe thead th {\n",
       "        text-align: right;\n",
       "    }\n",
       "</style>\n",
       "<table border=\"1\" class=\"dataframe\">\n",
       "  <thead>\n",
       "    <tr style=\"text-align: right;\">\n",
       "      <th></th>\n",
       "      <th>Compound ID</th>\n",
       "      <th>SMILES</th>\n",
       "    </tr>\n",
       "  </thead>\n",
       "  <tbody>\n",
       "    <tr>\n",
       "      <th>0</th>\n",
       "      <td>CBK290537</td>\n",
       "      <td>CCOc1cc(N)c(Cl)cc1C(=O)NCC1CN(Cc2ccc(F)cc2)CCO1</td>\n",
       "    </tr>\n",
       "    <tr>\n",
       "      <th>1</th>\n",
       "      <td>CBK308456</td>\n",
       "      <td>Clc1ccccc1C1CS\\C(S1)=C(\\C#N)n1ccnc1</td>\n",
       "    </tr>\n",
       "    <tr>\n",
       "      <th>2</th>\n",
       "      <td>CBK200938</td>\n",
       "      <td>O=C(C1=C(C)NC(C)=C(C(OCC(C)C)=O)C1C2=CC=CC=C2[...</td>\n",
       "    </tr>\n",
       "    <tr>\n",
       "      <th>3</th>\n",
       "      <td>CBK290948</td>\n",
       "      <td>CC(=O)Nc1ccc(NC(=S)NC(=O)c2ccc(cc2)C(C)(C)C)cc1</td>\n",
       "    </tr>\n",
       "    <tr>\n",
       "      <th>4</th>\n",
       "      <td>CBK200855</td>\n",
       "      <td>Oc1c(I)cc(Cl)c2cccnc12</td>\n",
       "    </tr>\n",
       "    <tr>\n",
       "      <th>...</th>\n",
       "      <td>...</td>\n",
       "      <td>...</td>\n",
       "    </tr>\n",
       "    <tr>\n",
       "      <th>930</th>\n",
       "      <td>CBK308906</td>\n",
       "      <td>C[C@@]([H])(C(F)(F)F)NC1=C(C2=C(F)C=C(OCCCNC)C...</td>\n",
       "    </tr>\n",
       "    <tr>\n",
       "      <th>931</th>\n",
       "      <td>CBK308966</td>\n",
       "      <td>CC(C)(C)[C@H](NC([C@H](C(C)(C1=CC=CC=C1)C)NC)=...</td>\n",
       "    </tr>\n",
       "    <tr>\n",
       "      <th>932</th>\n",
       "      <td>CBK309016</td>\n",
       "      <td>COC1=CC(C(C2=C(C)OC3=C(O)C(OC)=CC=C23)=O)=CC(O...</td>\n",
       "    </tr>\n",
       "    <tr>\n",
       "      <th>933</th>\n",
       "      <td>CBK309391</td>\n",
       "      <td>CC[C@H](C)[C@@H]([C@@H](CC(=O)N1CCC[C@H]1[C@H]...</td>\n",
       "    </tr>\n",
       "    <tr>\n",
       "      <th>934</th>\n",
       "      <td>CBK309437</td>\n",
       "      <td>CCC[C@H](Nc1nc(ncc1C)-c1ccc(NC(=O)NCC)c(OC)c1)...</td>\n",
       "    </tr>\n",
       "  </tbody>\n",
       "</table>\n",
       "<p>935 rows × 2 columns</p>\n",
       "</div>"
      ],
      "text/plain": [
       "    Compound ID                                             SMILES\n",
       "0     CBK290537    CCOc1cc(N)c(Cl)cc1C(=O)NCC1CN(Cc2ccc(F)cc2)CCO1\n",
       "1     CBK308456                Clc1ccccc1C1CS\\C(S1)=C(\\C#N)n1ccnc1\n",
       "2     CBK200938  O=C(C1=C(C)NC(C)=C(C(OCC(C)C)=O)C1C2=CC=CC=C2[...\n",
       "3     CBK290948    CC(=O)Nc1ccc(NC(=S)NC(=O)c2ccc(cc2)C(C)(C)C)cc1\n",
       "4     CBK200855                             Oc1c(I)cc(Cl)c2cccnc12\n",
       "..          ...                                                ...\n",
       "930   CBK308906  C[C@@]([H])(C(F)(F)F)NC1=C(C2=C(F)C=C(OCCCNC)C...\n",
       "931   CBK308966  CC(C)(C)[C@H](NC([C@H](C(C)(C1=CC=CC=C1)C)NC)=...\n",
       "932   CBK309016  COC1=CC(C(C2=C(C)OC3=C(O)C(OC)=CC=C23)=O)=CC(O...\n",
       "933   CBK309391  CC[C@H](C)[C@@H]([C@@H](CC(=O)N1CCC[C@H]1[C@H]...\n",
       "934   CBK309437  CCC[C@H](Nc1nc(ncc1C)-c1ccc(NC(=O)NCC)c(OC)c1)...\n",
       "\n",
       "[935 rows x 2 columns]"
      ]
     },
     "execution_count": 64,
     "metadata": {},
     "output_type": "execute_result"
    }
   ],
   "source": [
    "smiles"
   ]
  },
  {
   "cell_type": "code",
   "execution_count": 67,
   "id": "05d63f80-028e-49a4-81cd-a7d4168bb188",
   "metadata": {},
   "outputs": [],
   "source": [
    "smiles_code = smiles.loc[smiles['Compound ID'] == \"CBK290537\"][\"SMILES\"].iloc[0]"
   ]
  },
  {
   "cell_type": "code",
   "execution_count": 68,
   "id": "1267f775-8c0f-454d-a4c4-f4398c86cba7",
   "metadata": {},
   "outputs": [],
   "source": [
    "tox21 = pd.read_csv('data/tox21_averaged.csv')"
   ]
  },
  {
   "cell_type": "code",
   "execution_count": 74,
   "id": "bddd5716-5506-4e27-ba2f-4477b03f3c1a",
   "metadata": {},
   "outputs": [],
   "source": [
    "compound_lst = tox21['Compound_ID'].to_list()"
   ]
  },
  {
   "cell_type": "code",
   "execution_count": 84,
   "id": "e56aac03-9b7c-462e-b9be-048ee6bd75f7",
   "metadata": {},
   "outputs": [],
   "source": [
    "smiles_lst = []\n",
    "compound_mf_lst = []\n",
    "\n",
    "for compound in compound_lst:\n",
    "    smiles_code = smiles.loc[smiles['Compound ID'] == compound][\"SMILES\"].iloc[0]\n",
    "    smiles_lst.append(smiles_code)\n",
    "    if compound == \"CBK041858\":\n",
    "        compound_mf_lst.append(\"error in smiles code\")\n",
    "    else:\n",
    "        compound_mf_lst.append(calc_fingerprint(smiles_code))"
   ]
  },
  {
   "cell_type": "code",
   "execution_count": 86,
   "id": "b7899950-a745-43e6-8716-bf134e15352b",
   "metadata": {},
   "outputs": [],
   "source": [
    "tox21[\"SMILES\"] = smiles_lst\n",
    "tox21[\"Morgan_fingerprint\"] = compound_mf_lst"
   ]
  },
  {
   "cell_type": "code",
   "execution_count": 88,
   "id": "0051536a-c24b-4f30-9b9c-24657ce6461c",
   "metadata": {},
   "outputs": [],
   "source": [
    "tox21.to_csv(\"data/tox21_averaged_with_morganfingerprint.csv\", index=False)"
   ]
  },
  {
   "cell_type": "code",
   "execution_count": 80,
   "id": "5ca1cfdb-a8c6-4cd1-a9c2-160d92139cd5",
   "metadata": {},
   "outputs": [
    {
     "data": {
      "text/plain": [
       "143"
      ]
     },
     "execution_count": 80,
     "metadata": {},
     "output_type": "execute_result"
    }
   ],
   "source": [
    "len(compound_mf_lst)"
   ]
  },
  {
   "cell_type": "code",
   "execution_count": 81,
   "id": "4d656485-2766-4d2f-8d3d-60f5e731356a",
   "metadata": {},
   "outputs": [
    {
     "data": {
      "text/plain": [
       "144"
      ]
     },
     "execution_count": 81,
     "metadata": {},
     "output_type": "execute_result"
    }
   ],
   "source": [
    "len(tox21)"
   ]
  }
 ],
 "metadata": {
  "kernelspec": {
   "display_name": "Python 3",
   "language": "python",
   "name": "python3"
  },
  "language_info": {
   "codemirror_mode": {
    "name": "ipython",
    "version": 3
   },
   "file_extension": ".py",
   "mimetype": "text/x-python",
   "name": "python",
   "nbconvert_exporter": "python",
   "pygments_lexer": "ipython3",
   "version": "3.8.10"
  }
 },
 "nbformat": 4,
 "nbformat_minor": 5
}
